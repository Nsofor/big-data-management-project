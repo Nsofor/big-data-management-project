{
  "nbformat": 4,
  "nbformat_minor": 0,
  "metadata": {
    "colab": {
      "provenance": []
    },
    "kernelspec": {
      "name": "python3",
      "display_name": "Python 3"
    },
    "language_info": {
      "name": "python"
    }
  },
  "cells": [
    {
      "cell_type": "code",
      "execution_count": 1,
      "metadata": {
        "colab": {
          "base_uri": "https://localhost:8080/"
        },
        "id": "TMO8XCV0433u",
        "outputId": "09685bd1-9b19-49c0-8bbb-188b5a663ae5"
      },
      "outputs": [
        {
          "output_type": "stream",
          "name": "stdout",
          "text": [
            "Reading package lists... Done\n",
            "Building dependency tree       \n",
            "Reading state information... Done\n",
            "The following additional packages will be installed:\n",
            "  libxtst6 openjdk-8-jre-headless\n",
            "Suggested packages:\n",
            "  openjdk-8-demo openjdk-8-source libnss-mdns fonts-dejavu-extra\n",
            "  fonts-ipafont-gothic fonts-ipafont-mincho fonts-wqy-microhei\n",
            "  fonts-wqy-zenhei fonts-indic\n",
            "The following NEW packages will be installed:\n",
            "  libxtst6 openjdk-8-jdk-headless openjdk-8-jre-headless\n",
            "0 upgraded, 3 newly installed, 0 to remove and 24 not upgraded.\n",
            "Need to get 36.5 MB of archives.\n",
            "After this operation, 144 MB of additional disk space will be used.\n",
            "Get:1 http://archive.ubuntu.com/ubuntu focal/main amd64 libxtst6 amd64 2:1.2.3-1 [12.8 kB]\n",
            "Get:2 http://archive.ubuntu.com/ubuntu focal-updates/universe amd64 openjdk-8-jre-headless amd64 8u372-ga~us1-0ubuntu1~20.04 [28.3 MB]\n",
            "Get:3 http://archive.ubuntu.com/ubuntu focal-updates/universe amd64 openjdk-8-jdk-headless amd64 8u372-ga~us1-0ubuntu1~20.04 [8,282 kB]\n",
            "Fetched 36.5 MB in 3s (11.1 MB/s)\n",
            "Selecting previously unselected package libxtst6:amd64.\n",
            "(Reading database ... 122531 files and directories currently installed.)\n",
            "Preparing to unpack .../libxtst6_2%3a1.2.3-1_amd64.deb ...\n",
            "Unpacking libxtst6:amd64 (2:1.2.3-1) ...\n",
            "Selecting previously unselected package openjdk-8-jre-headless:amd64.\n",
            "Preparing to unpack .../openjdk-8-jre-headless_8u372-ga~us1-0ubuntu1~20.04_amd64.deb ...\n",
            "Unpacking openjdk-8-jre-headless:amd64 (8u372-ga~us1-0ubuntu1~20.04) ...\n",
            "Selecting previously unselected package openjdk-8-jdk-headless:amd64.\n",
            "Preparing to unpack .../openjdk-8-jdk-headless_8u372-ga~us1-0ubuntu1~20.04_amd64.deb ...\n",
            "Unpacking openjdk-8-jdk-headless:amd64 (8u372-ga~us1-0ubuntu1~20.04) ...\n",
            "Setting up libxtst6:amd64 (2:1.2.3-1) ...\n",
            "Setting up openjdk-8-jre-headless:amd64 (8u372-ga~us1-0ubuntu1~20.04) ...\n",
            "update-alternatives: using /usr/lib/jvm/java-8-openjdk-amd64/jre/bin/orbd to provide /usr/bin/orbd (orbd) in auto mode\n",
            "update-alternatives: using /usr/lib/jvm/java-8-openjdk-amd64/jre/bin/servertool to provide /usr/bin/servertool (servertool) in auto mode\n",
            "update-alternatives: using /usr/lib/jvm/java-8-openjdk-amd64/jre/bin/tnameserv to provide /usr/bin/tnameserv (tnameserv) in auto mode\n",
            "Setting up openjdk-8-jdk-headless:amd64 (8u372-ga~us1-0ubuntu1~20.04) ...\n",
            "update-alternatives: using /usr/lib/jvm/java-8-openjdk-amd64/bin/idlj to provide /usr/bin/idlj (idlj) in auto mode\n",
            "update-alternatives: using /usr/lib/jvm/java-8-openjdk-amd64/bin/wsimport to provide /usr/bin/wsimport (wsimport) in auto mode\n",
            "update-alternatives: using /usr/lib/jvm/java-8-openjdk-amd64/bin/jsadebugd to provide /usr/bin/jsadebugd (jsadebugd) in auto mode\n",
            "update-alternatives: using /usr/lib/jvm/java-8-openjdk-amd64/bin/native2ascii to provide /usr/bin/native2ascii (native2ascii) in auto mode\n",
            "update-alternatives: using /usr/lib/jvm/java-8-openjdk-amd64/bin/javah to provide /usr/bin/javah (javah) in auto mode\n",
            "update-alternatives: using /usr/lib/jvm/java-8-openjdk-amd64/bin/clhsdb to provide /usr/bin/clhsdb (clhsdb) in auto mode\n",
            "update-alternatives: using /usr/lib/jvm/java-8-openjdk-amd64/bin/jhat to provide /usr/bin/jhat (jhat) in auto mode\n",
            "update-alternatives: using /usr/lib/jvm/java-8-openjdk-amd64/bin/extcheck to provide /usr/bin/extcheck (extcheck) in auto mode\n",
            "update-alternatives: using /usr/lib/jvm/java-8-openjdk-amd64/bin/hsdb to provide /usr/bin/hsdb (hsdb) in auto mode\n",
            "update-alternatives: using /usr/lib/jvm/java-8-openjdk-amd64/bin/schemagen to provide /usr/bin/schemagen (schemagen) in auto mode\n",
            "update-alternatives: using /usr/lib/jvm/java-8-openjdk-amd64/bin/xjc to provide /usr/bin/xjc (xjc) in auto mode\n",
            "update-alternatives: using /usr/lib/jvm/java-8-openjdk-amd64/bin/wsgen to provide /usr/bin/wsgen (wsgen) in auto mode\n",
            "Processing triggers for libc-bin (2.31-0ubuntu9.9) ...\n"
          ]
        }
      ],
      "source": [
        "!apt-get install openjdk-8-jdk-headless"
      ]
    },
    {
      "cell_type": "code",
      "source": [
        "!wget https://archive.apache.org/dist/spark/spark-3.2.1/spark-3.2.1-bin-hadoop2.7.tgz"
      ],
      "metadata": {
        "colab": {
          "base_uri": "https://localhost:8080/"
        },
        "id": "A8ynL-M_5DaB",
        "outputId": "fefc5170-9c76-4c50-af87-6e3f51de001f"
      },
      "execution_count": 2,
      "outputs": [
        {
          "output_type": "stream",
          "name": "stdout",
          "text": [
            "--2023-05-19 02:22:52--  https://archive.apache.org/dist/spark/spark-3.2.1/spark-3.2.1-bin-hadoop2.7.tgz\n",
            "Resolving archive.apache.org (archive.apache.org)... 138.201.131.134, 2a01:4f8:172:2ec5::2\n",
            "Connecting to archive.apache.org (archive.apache.org)|138.201.131.134|:443... connected.\n",
            "HTTP request sent, awaiting response... 200 OK\n",
            "Length: 272637746 (260M) [application/x-gzip]\n",
            "Saving to: ‘spark-3.2.1-bin-hadoop2.7.tgz’\n",
            "\n",
            "spark-3.2.1-bin-had 100%[===================>] 260.01M  19.7MB/s    in 14s     \n",
            "\n",
            "2023-05-19 02:23:07 (18.3 MB/s) - ‘spark-3.2.1-bin-hadoop2.7.tgz’ saved [272637746/272637746]\n",
            "\n"
          ]
        }
      ]
    },
    {
      "cell_type": "code",
      "source": [
        "!tar xf spark-3.2.1-bin-hadoop2.7.tgz"
      ],
      "metadata": {
        "id": "IxsFoKMREtB4"
      },
      "execution_count": 3,
      "outputs": []
    },
    {
      "cell_type": "code",
      "source": [
        "!pip install -q findspark"
      ],
      "metadata": {
        "id": "mQ4aJ-nkE4Ee"
      },
      "execution_count": 4,
      "outputs": []
    },
    {
      "cell_type": "code",
      "source": [
        "import os\n",
        "os.environ[\"JAVA_HOME\"] = \"/usr/lib/jvm/java-8-openjdk-amd64\"\n",
        "os.environ[\"SPARK_HOME\"] = \"/content/spark-3.2.1-bin-hadoop2.7\""
      ],
      "metadata": {
        "id": "2ic0LI9nE8DU"
      },
      "execution_count": 5,
      "outputs": []
    },
    {
      "cell_type": "code",
      "source": [
        "import findspark\n",
        "findspark.init()\n",
        "findspark.find()"
      ],
      "metadata": {
        "colab": {
          "base_uri": "https://localhost:8080/",
          "height": 35
        },
        "id": "tNTlMg4QE9Zh",
        "outputId": "1b00728d-251c-4ba3-d122-36614b1b1366"
      },
      "execution_count": 6,
      "outputs": [
        {
          "output_type": "execute_result",
          "data": {
            "text/plain": [
              "'/content/spark-3.2.1-bin-hadoop2.7'"
            ],
            "application/vnd.google.colaboratory.intrinsic+json": {
              "type": "string"
            }
          },
          "metadata": {},
          "execution_count": 6
        }
      ]
    },
    {
      "cell_type": "code",
      "source": [
        "from pyspark.sql import SparkSession\n",
        "\n",
        "spark = SparkSession.builder\\\n",
        "        .master(\"local\")\\\n",
        "        .appName(\"EDA_FLAMINGO\")\\\n",
        "        .config('spark.ui.port', '4050')\\\n",
        "        .getOrCreate()"
      ],
      "metadata": {
        "id": "-jJ6JZWWFBJ3"
      },
      "execution_count": 7,
      "outputs": []
    },
    {
      "cell_type": "code",
      "source": [
        "from pyspark.sql.functions import col, when"
      ],
      "metadata": {
        "id": "HEqzntfJFHMr"
      },
      "execution_count": 8,
      "outputs": []
    },
    {
      "cell_type": "code",
      "source": [
        "from pyspark.sql import SparkSession"
      ],
      "metadata": {
        "id": "lDNYk0xaFI66"
      },
      "execution_count": 9,
      "outputs": []
    },
    {
      "cell_type": "code",
      "source": [
        "spark"
      ],
      "metadata": {
        "colab": {
          "base_uri": "https://localhost:8080/",
          "height": 219
        },
        "id": "VIi9emo2FLij",
        "outputId": "0f183087-3183-4ac0-e1d8-5272b2cc91f7"
      },
      "execution_count": 10,
      "outputs": [
        {
          "output_type": "execute_result",
          "data": {
            "text/plain": [
              "<pyspark.sql.session.SparkSession at 0x7f56b175a2c0>"
            ],
            "text/html": [
              "\n",
              "            <div>\n",
              "                <p><b>SparkSession - in-memory</b></p>\n",
              "                \n",
              "        <div>\n",
              "            <p><b>SparkContext</b></p>\n",
              "\n",
              "            <p><a href=\"http://08c745d8cf4d:4050\">Spark UI</a></p>\n",
              "\n",
              "            <dl>\n",
              "              <dt>Version</dt>\n",
              "                <dd><code>v3.2.1</code></dd>\n",
              "              <dt>Master</dt>\n",
              "                <dd><code>local</code></dd>\n",
              "              <dt>AppName</dt>\n",
              "                <dd><code>EDA_FLAMINGO</code></dd>\n",
              "            </dl>\n",
              "        </div>\n",
              "        \n",
              "            </div>\n",
              "        "
            ]
          },
          "metadata": {},
          "execution_count": 10
        }
      ]
    },
    {
      "cell_type": "code",
      "source": [
        "import matplotlib.pyplot as plt\n"
      ],
      "metadata": {
        "id": "a2a1n_HMFRbf"
      },
      "execution_count": 11,
      "outputs": []
    },
    {
      "cell_type": "code",
      "source": [
        "import pandas as pd"
      ],
      "metadata": {
        "id": "6Ks-gER2FVQW"
      },
      "execution_count": 12,
      "outputs": []
    },
    {
      "cell_type": "code",
      "source": [
        "#Load the datasets\n",
        "df_adclicks = spark.read.csv(\"ad-clicks.csv\", header=True, inferSchema=True)\n",
        "df_buyclicks = spark.read.csv(\"buy-clicks.csv\", header=True, inferSchema=True)\n",
        "df_gameclicks = spark.read.csv(\"game-clicks.csv\", header=True, inferSchema=True)\n",
        "df_level = spark.read.csv(\"level-events.csv\", header=True, inferSchema=True)\n",
        "df_teamassignments = spark.read.csv(\"team-assignments.csv\", header=True, inferSchema=True)\n",
        "df_team = spark.read.csv(\"team.csv\", header=True, inferSchema=True)\n",
        "df_usersession = spark.read.csv(\"user-session.csv\", header=True, inferSchema=True)\n",
        "df_users = spark.read.csv(\"users.csv\", header=True, inferSchema=True)"
      ],
      "metadata": {
        "id": "ShG0gLNDFWKc"
      },
      "execution_count": 14,
      "outputs": []
    },
    {
      "cell_type": "markdown",
      "source": [
        "#using flamingo & combined datasets for EDA\n",
        "# flamingo is a collection of datasets, we are going to combine all the datasets into 1\n",
        "# spark is going to be used for machine learning using mlib \n",
        "# spark will be used for graph analysis using the graphx "
      ],
      "metadata": {
        "id": "mDXHVQnvFi4p"
      }
    },
    {
      "cell_type": "code",
      "source": [
        "unique_adclick= df_adclicks.groupBy('adCategory').count().orderBy(col('count').desc())\n",
        "unique_adclick.show()"
      ],
      "metadata": {
        "colab": {
          "base_uri": "https://localhost:8080/"
        },
        "id": "50VfWGeIFWd2",
        "outputId": "1cc749c2-7124-43a5-94bf-e129b438295a"
      },
      "execution_count": 15,
      "outputs": [
        {
          "output_type": "stream",
          "name": "stdout",
          "text": [
            "+-----------+-----+\n",
            "| adCategory|count|\n",
            "+-----------+-----+\n",
            "|  computers| 2638|\n",
            "|      games| 2601|\n",
            "|   clothing| 2340|\n",
            "|     sports| 2074|\n",
            "|    fashion| 1727|\n",
            "|     movies| 1692|\n",
            "|   hardware| 1588|\n",
            "|electronics| 1097|\n",
            "| automotive|  566|\n",
            "+-----------+-----+\n",
            "\n"
          ]
        }
      ]
    },
    {
      "cell_type": "markdown",
      "source": [
        "below shows ad category with most clicks"
      ],
      "metadata": {
        "id": "wZkhG6VCGUyz"
      }
    },
    {
      "cell_type": "code",
      "source": [
        "unique_adclick= df_adclicks.groupBy('adCategory').count().orderBy(col('count').desc()).toPandas()\n",
        "\n",
        "plt.figure(figsize=(8, 8))\n",
        "plt.pie(unique_adclick['count'], labels=unique_adclick['adCategory'], autopct='%1.1f%%')\n",
        "plt.axis('equal')\n",
        "plt.title('AD CATEGORIES')\n",
        "plt.show()"
      ],
      "metadata": {
        "id": "daW0Wt11FW52"
      },
      "execution_count": null,
      "outputs": []
    },
    {
      "cell_type": "code",
      "source": [
        "unique_adidclick= df_adclicks.groupBy('adId').count().orderBy(col('count').desc())\n",
        "unique_adidclick.show()"
      ],
      "metadata": {
        "id": "Am6yd0eoGiYZ"
      },
      "execution_count": null,
      "outputs": []
    },
    {
      "cell_type": "code",
      "source": [
        "unique_adidclick = df_adclicks.groupBy('adId').count().orderBy(col('count').desc()).toPandas()\n",
        "\n",
        "# Plot the bar chart\n",
        "plt.figure(figsize=(10, 6))\n",
        "plt.bar(unique_adidclick['adId'], unique_adidclick['count'])\n",
        "plt.xlabel('AD ID')\n",
        "plt.ylabel('Count')\n",
        "plt.title('AD CLICKS')\n",
        "plt.xticks(rotation=90)\n",
        "plt.show()"
      ],
      "metadata": {
        "id": "tLrEdzWqGuI0"
      },
      "execution_count": null,
      "outputs": []
    },
    {
      "cell_type": "markdown",
      "source": [
        "below displays the user with most ad clicks"
      ],
      "metadata": {
        "id": "LUU7x0kuHNQY"
      }
    },
    {
      "cell_type": "code",
      "source": [
        "user_counts = df_adclicks.groupBy('userId').count().orderBy(col('count').desc()).toPandas()\n",
        "\n",
        "top_10_user_clicks = user_counts.head(10)\n",
        "\n",
        "plt.figure(figsize=(8, 8))\n",
        "plt.pie(top_10_user_clicks['count'], labels=top_10_user_clicks['userId'], autopct='%1.1f%%')\n",
        "plt.axis('equal')\n",
        "plt.title('users with most ad clicks')\n",
        "plt.show()"
      ],
      "metadata": {
        "colab": {
          "base_uri": "https://localhost:8080/",
          "height": 683
        },
        "id": "EDJua-_oHNpx",
        "outputId": "b62eeadb-604b-461b-f529-9015f839d1ee"
      },
      "execution_count": 21,
      "outputs": [
        {
          "output_type": "display_data",
          "data": {
            "text/plain": [
              "<Figure size 800x800 with 1 Axes>"
            ],
            "image/png": "[encoded data removed]"
          },
          "metadata": {}
        }
      ]
    },
    {
      "cell_type": "markdown",
      "source": [
        "below will display hit count"
      ],
      "metadata": {
        "id": "C2D8bprIHjWv"
      }
    },
    {
      "cell_type": "code",
      "source": [
        "unique_hits= df_gameclicks.groupBy('isHit').count().orderBy(col('count').desc())\n",
        "unique_hits.show()"
      ],
      "metadata": {
        "id": "lqYNzdzdHjpM"
      },
      "execution_count": null,
      "outputs": []
    },
    {
      "cell_type": "code",
      "source": [
        "unique_hits= df_gameclicks.groupBy('isHit').count().orderBy(col('count').desc()).toPandas()\n",
        "\n",
        "plt.figure(figsize=(8, 8))\n",
        "plt.pie(unique_hits['count'], labels=unique_hits['isHit'], autopct='%1.1f%%')\n",
        "plt.axis('equal')\n",
        "plt.title('IsHit')\n",
        "plt.show()"
      ],
      "metadata": {
        "colab": {
          "base_uri": "https://localhost:8080/",
          "height": 675
        },
        "id": "XJy2bEw3HmIw",
        "outputId": "d9e616e2-1761-424f-c49c-c57e85ab2310"
      },
      "execution_count": 23,
      "outputs": [
        {
          "output_type": "display_data",
          "data": {
            "text/plain": [
              "<Figure size 800x800 with 1 Axes>"
            ],
            "image/png": "[encoded data removed]"
          },
          "metadata": {}
        }
      ]
    },
    {
      "cell_type": "markdown",
      "source": [
        "below will display  teams with most buy"
      ],
      "metadata": {
        "id": "9Cr17iR1H4vc"
      }
    },
    {
      "cell_type": "code",
      "source": [
        "count_teams_most_buys= df_buyclicks.groupBy('team').count().orderBy(col('count').desc())\n",
        "count_teams_most_buys.show()"
      ],
      "metadata": {
        "colab": {
          "base_uri": "https://localhost:8080/"
        },
        "id": "ta5FzR3_H11c",
        "outputId": "92446145-7206-4a5b-c2e5-bd97acac3613"
      },
      "execution_count": 24,
      "outputs": [
        {
          "output_type": "stream",
          "name": "stdout",
          "text": [
            "+----+-----+\n",
            "|team|count|\n",
            "+----+-----+\n",
            "|  27|  101|\n",
            "|  64|  100|\n",
            "|   9|   98|\n",
            "|  35|   94|\n",
            "|  54|   89|\n",
            "|  72|   88|\n",
            "|  22|   86|\n",
            "|  53|   86|\n",
            "|  99|   79|\n",
            "|  66|   79|\n",
            "|  18|   78|\n",
            "|  97|   76|\n",
            "|  51|   68|\n",
            "|  11|   64|\n",
            "|  59|   61|\n",
            "|  20|   60|\n",
            "|  84|   59|\n",
            "|  13|   55|\n",
            "|  63|   52|\n",
            "|  77|   50|\n",
            "+----+-----+\n",
            "only showing top 20 rows\n",
            "\n"
          ]
        }
      ]
    },
    {
      "cell_type": "code",
      "source": [
        "count_teams_most_buys = df_buyclicks.groupBy('team').count().orderBy(col('count').desc()).toPandas()\n"
      ],
      "metadata": {
        "id": "R2JSdlOJIB34"
      },
      "execution_count": 25,
      "outputs": []
    },
    {
      "cell_type": "code",
      "source": [
        "top_10_teams_mostbuys= count_teams_most_buys.head(10)"
      ],
      "metadata": {
        "id": "VLtLlXBnIEe7"
      },
      "execution_count": 26,
      "outputs": []
    },
    {
      "cell_type": "code",
      "source": [
        "# Plot the bar chart\n",
        "plt.figure(figsize=(5, 4))\n",
        "plt.bar(top_10_teams_mostbuys['team'], top_10_teams_mostbuys['count'])\n",
        "plt.xlabel('Team ID')\n",
        "plt.ylabel('Count')\n",
        "plt.title('Team with Most Buys')\n",
        "plt.xticks(rotation=90)\n",
        "plt.show()"
      ],
      "metadata": {
        "colab": {
          "base_uri": "https://localhost:8080/",
          "height": 422
        },
        "id": "1fEI4WggIHC6",
        "outputId": "e7f3d753-8d51-44aa-dc71-6ab1dd87a7b6"
      },
      "execution_count": 27,
      "outputs": [
        {
          "output_type": "display_data",
          "data": {
            "text/plain": [
              "<Figure size 500x400 with 1 Axes>"
            ],
            "image/png": "[encoded data removed]"
          },
          "metadata": {}
        }
      ]
    },
    {
      "cell_type": "markdown",
      "source": [
        "we will find out most purchased item"
      ],
      "metadata": {
        "id": "lvLSrpoeIhJv"
      }
    },
    {
      "cell_type": "code",
      "source": [
        "count_items_purchased= df_buyclicks.groupBy('buyid').count().orderBy(col('count').desc())\n",
        "count_items_purchased.show()"
      ],
      "metadata": {
        "colab": {
          "base_uri": "https://localhost:8080/"
        },
        "id": "aPO2i2qNIjvS",
        "outputId": "64e8841b-8257-4865-f888-9fff2cc11d40"
      },
      "execution_count": 28,
      "outputs": [
        {
          "output_type": "stream",
          "name": "stdout",
          "text": [
            "+-----+-----+\n",
            "|buyid|count|\n",
            "+-----+-----+\n",
            "|    2|  714|\n",
            "|    5|  610|\n",
            "|    0|  592|\n",
            "|    4|  425|\n",
            "|    3|  337|\n",
            "|    1|  269|\n",
            "+-----+-----+\n",
            "\n"
          ]
        }
      ]
    },
    {
      "cell_type": "code",
      "source": [
        "count_items_purchased = df_buyclicks.groupBy('buyid').count().orderBy(col('count').desc()).toPandas()\n"
      ],
      "metadata": {
        "id": "YpfYYjQBIc-S"
      },
      "execution_count": 29,
      "outputs": []
    },
    {
      "cell_type": "code",
      "source": [
        "plt.figure(figsize=(8, 8))\n",
        "plt.pie(count_items_purchased['count'], labels=count_items_purchased['buyid'], autopct='%1.1f%%')\n",
        "plt.axis('equal')\n",
        "plt.title('Items Purchased')\n",
        "plt.show()"
      ],
      "metadata": {
        "colab": {
          "base_uri": "https://localhost:8080/",
          "height": 679
        },
        "id": "dKhWVyBLIp9Y",
        "outputId": "6113e0fd-e458-4ce4-fd07-8888e3c2d041"
      },
      "execution_count": 30,
      "outputs": [
        {
          "output_type": "display_data",
          "data": {
            "text/plain": [
              "<Figure size 800x800 with 1 Axes>"
            ],
            "image/png": "[encoded data removed]"
          },
          "metadata": {}
        }
      ]
    },
    {
      "cell_type": "markdown",
      "source": [
        "top 10 users that  isHit=1"
      ],
      "metadata": {
        "id": "_iAMsvRMI29Z"
      }
    },
    {
      "cell_type": "code",
      "source": [
        "users_with_ishit = df_gameclicks.filter(col(\"isHit\") == \"1\")"
      ],
      "metadata": {
        "id": "-NtsGDGPIzUw"
      },
      "execution_count": 31,
      "outputs": []
    },
    {
      "cell_type": "code",
      "source": [
        "users_with_ishit.show()"
      ],
      "metadata": {
        "colab": {
          "base_uri": "https://localhost:8080/"
        },
        "id": "oiRKvGsTJJtZ",
        "outputId": "1d8096f4-7b55-430e-8c9a-e34da9be2951"
      },
      "execution_count": 32,
      "outputs": [
        {
          "output_type": "stream",
          "name": "stdout",
          "text": [
            "+-------------------+-------+------+-------------+-----+------+---------+\n",
            "|          timestamp|clickId|userId|userSessionId|isHit|teamId|teamLevel|\n",
            "+-------------------+-------+------+-------------+-----+------+---------+\n",
            "|2016-05-26 15:14:21|    159|  1485|         5732|    1|    51|        1|\n",
            "|2016-05-26 15:15:51|    255|   872|         5815|    1|    74|        1|\n",
            "|2016-05-26 15:22:47|    106|  1038|         5916|    1|    25|        1|\n",
            "|2016-05-26 15:22:59|    228|  1665|         5953|    1|    70|        1|\n",
            "|2016-05-26 15:23:27|    144|   812|         5648|    1|    36|        1|\n",
            "|2016-05-26 15:24:27|    321|   437|         5904|    1|    97|        1|\n",
            "|2016-05-26 15:25:41|     15|  2314|         5818|    1|     8|        1|\n",
            "|2016-05-26 15:29:29|     18|   371|         5870|    1|     9|        1|\n",
            "|2016-05-26 15:31:15|    170|  2355|         5671|    1|    59|        1|\n",
            "|2016-05-26 15:31:43|    161|   539|         5873|    1|    53|        1|\n",
            "|2016-05-26 15:31:53|    260|   253|         5945|    1|    75|        1|\n",
            "|2016-05-26 15:32:29|    273|  2048|         5944|    1|    78|        1|\n",
            "|2016-05-26 15:33:13|    142|  2146|         5880|    1|    35|        1|\n",
            "|2016-05-26 15:33:20|    320|   896|         5848|    1|    94|        1|\n",
            "|2016-05-26 15:33:34|    167|  2221|         5860|    1|    57|        1|\n",
            "|2016-05-26 15:33:38|    269|  1191|         5719|    1|    77|        1|\n",
            "|2016-05-26 15:33:41|    318|  1142|         5871|    1|    93|        1|\n",
            "|2016-05-26 15:33:42|    198|  2084|         5962|    1|    64|        1|\n",
            "|2016-05-26 15:33:58|    158|  1099|         5898|    1|    44|        1|\n",
            "|2016-05-26 15:34:04|    307|   845|         5766|    1|    86|        1|\n",
            "+-------------------+-------+------+-------------+-----+------+---------+\n",
            "only showing top 20 rows\n",
            "\n"
          ]
        }
      ]
    },
    {
      "cell_type": "code",
      "source": [
        "count_ishit= users_with_ishit.groupBy('userId').count().orderBy(col('count').desc())\n",
        "count_ishit.show()"
      ],
      "metadata": {
        "colab": {
          "base_uri": "https://localhost:8080/"
        },
        "id": "3c723xmpJM6s",
        "outputId": "65e154d2-2614-440b-983e-aadbc154c69b"
      },
      "execution_count": 33,
      "outputs": [
        {
          "output_type": "stream",
          "name": "stdout",
          "text": [
            "+------+-----+\n",
            "|userId|count|\n",
            "+------+-----+\n",
            "|  1418|  411|\n",
            "|   436|  400|\n",
            "|  2356|  322|\n",
            "|  1000|  299|\n",
            "|   911|  275|\n",
            "|  1249|  255|\n",
            "|   375|  255|\n",
            "|   399|  242|\n",
            "|  1477|  232|\n",
            "|  1809|  220|\n",
            "|  1019|  212|\n",
            "|    16|  209|\n",
            "|  1815|  207|\n",
            "|  2307|  206|\n",
            "|  1016|  206|\n",
            "|  1634|  205|\n",
            "|   754|  202|\n",
            "|  2128|  198|\n",
            "|  1317|  196|\n",
            "|    10|  192|\n",
            "+------+-----+\n",
            "only showing top 20 rows\n",
            "\n"
          ]
        }
      ]
    },
    {
      "cell_type": "code",
      "source": [
        "count_ishit= users_with_ishit.groupBy('userId').count().orderBy(col('count').desc()).toPandas()\n"
      ],
      "metadata": {
        "id": "tdCBZrBFJQcZ"
      },
      "execution_count": 34,
      "outputs": []
    },
    {
      "cell_type": "code",
      "source": [
        "top_10_ishit= count_ishit.head(10)\n",
        "top_10_ishit"
      ],
      "metadata": {
        "colab": {
          "base_uri": "https://localhost:8080/",
          "height": 363
        },
        "id": "cv0IMHskJTVc",
        "outputId": "f7e4e099-e02c-40ae-ebfb-38bbd08a09fe"
      },
      "execution_count": 35,
      "outputs": [
        {
          "output_type": "execute_result",
          "data": {
            "text/plain": [
              "   userId  count\n",
              "0    1418    411\n",
              "1     436    400\n",
              "2    2356    322\n",
              "3    1000    299\n",
              "4     911    275\n",
              "5     375    255\n",
              "6    1249    255\n",
              "7     399    242\n",
              "8    1477    232\n",
              "9    1809    220"
            ],
            "text/html": [
              "\n",
              "  <div id=\"df-16f65cd3-bd7b-4247-af17-779a288c8ca6\">\n",
              "    <div class=\"colab-df-container\">\n",
              "      <div>\n",
              "<style scoped>\n",
              "    .dataframe tbody tr th:only-of-type {\n",
              "        vertical-align: middle;\n",
              "    }\n",
              "\n",
              "    .dataframe tbody tr th {\n",
              "        vertical-align: top;\n",
              "    }\n",
              "\n",
              "    .dataframe thead th {\n",
              "        text-align: right;\n",
              "    }\n",
              "</style>\n",
              "<table border=\"1\" class=\"dataframe\">\n",
              "  <thead>\n",
              "    <tr style=\"text-align: right;\">\n",
              "      <th></th>\n",
              "      <th>userId</th>\n",
              "      <th>count</th>\n",
              "    </tr>\n",
              "  </thead>\n",
              "  <tbody>\n",
              "    <tr>\n",
              "      <th>0</th>\n",
              "      <td>1418</td>\n",
              "      <td>411</td>\n",
              "    </tr>\n",
              "    <tr>\n",
              "      <th>1</th>\n",
              "      <td>436</td>\n",
              "      <td>400</td>\n",
              "    </tr>\n",
              "    <tr>\n",
              "      <th>2</th>\n",
              "      <td>2356</td>\n",
              "      <td>322</td>\n",
              "    </tr>\n",
              "    <tr>\n",
              "      <th>3</th>\n",
              "      <td>1000</td>\n",
              "      <td>299</td>\n",
              "    </tr>\n",
              "    <tr>\n",
              "      <th>4</th>\n",
              "      <td>911</td>\n",
              "      <td>275</td>\n",
              "    </tr>\n",
              "    <tr>\n",
              "      <th>5</th>\n",
              "      <td>375</td>\n",
              "      <td>255</td>\n",
              "    </tr>\n",
              "    <tr>\n",
              "      <th>6</th>\n",
              "      <td>1249</td>\n",
              "      <td>255</td>\n",
              "    </tr>\n",
              "    <tr>\n",
              "      <th>7</th>\n",
              "      <td>399</td>\n",
              "      <td>242</td>\n",
              "    </tr>\n",
              "    <tr>\n",
              "      <th>8</th>\n",
              "      <td>1477</td>\n",
              "      <td>232</td>\n",
              "    </tr>\n",
              "    <tr>\n",
              "      <th>9</th>\n",
              "      <td>1809</td>\n",
              "      <td>220</td>\n",
              "    </tr>\n",
              "  </tbody>\n",
              "</table>\n",
              "</div>\n",
              "      <button class=\"colab-df-convert\" onclick=\"convertToInteractive('df-16f65cd3-bd7b-4247-af17-779a288c8ca6')\"\n",
              "              title=\"Convert this dataframe to an interactive table.\"\n",
              "              style=\"display:none;\">\n",
              "        \n",
              "  <svg xmlns=\"http://www.w3.org/2000/svg\" height=\"24px\"viewBox=\"0 0 24 24\"\n",
              "       width=\"24px\">\n",
              "    <path d=\"M0 0h24v24H0V0z\" fill=\"none\"/>\n",
              "    <path d=\"M18.56 5.44l.94 2.06.94-2.06 2.06-.94-2.06-.94-.94-2.06-.94 2.06-2.06.94zm-11 1L8.5 8.5l.94-2.06 2.06-.94-2.06-.94L8.5 2.5l-.94 2.06-2.06.94zm10 10l.94 2.06.94-2.06 2.06-.94-2.06-.94-.94-2.06-.94 2.06-2.06.94z\"/><path d=\"M17.41 7.96l-1.37-1.37c-.4-.4-.92-.59-1.43-.59-.52 0-1.04.2-1.43.59L10.3 9.45l-7.72 7.72c-.78.78-.78 2.05 0 2.83L4 21.41c.39.39.9.59 1.41.59.51 0 1.02-.2 1.41-.59l7.78-7.78 2.81-2.81c.8-.78.8-2.07 0-2.86zM5.41 20L4 18.59l7.72-7.72 1.47 1.35L5.41 20z\"/>\n",
              "  </svg>\n",
              "      </button>\n",
              "      \n",
              "  <style>\n",
              "    .colab-df-container {\n",
              "      display:flex;\n",
              "      flex-wrap:wrap;\n",
              "      gap: 12px;\n",
              "    }\n",
              "\n",
              "    .colab-df-convert {\n",
              "      background-color: #E8F0FE;\n",
              "      border: none;\n",
              "      border-radius: 50%;\n",
              "      cursor: pointer;\n",
              "      display: none;\n",
              "      fill: #1967D2;\n",
              "      height: 32px;\n",
              "      padding: 0 0 0 0;\n",
              "      width: 32px;\n",
              "    }\n",
              "\n",
              "    .colab-df-convert:hover {\n",
              "      background-color: #E2EBFA;\n",
              "      box-shadow: 0px 1px 2px rgba(60, 64, 67, 0.3), 0px 1px 3px 1px rgba(60, 64, 67, 0.15);\n",
              "      fill: #174EA6;\n",
              "    }\n",
              "\n",
              "    [theme=dark] .colab-df-convert {\n",
              "      background-color: #3B4455;\n",
              "      fill: #D2E3FC;\n",
              "    }\n",
              "\n",
              "    [theme=dark] .colab-df-convert:hover {\n",
              "      background-color: #434B5C;\n",
              "      box-shadow: 0px 1px 3px 1px rgba(0, 0, 0, 0.15);\n",
              "      filter: drop-shadow(0px 1px 2px rgba(0, 0, 0, 0.3));\n",
              "      fill: #FFFFFF;\n",
              "    }\n",
              "  </style>\n",
              "\n",
              "      <script>\n",
              "        const buttonEl =\n",
              "          document.querySelector('#df-16f65cd3-bd7b-4247-af17-779a288c8ca6 button.colab-df-convert');\n",
              "        buttonEl.style.display =\n",
              "          google.colab.kernel.accessAllowed ? 'block' : 'none';\n",
              "\n",
              "        async function convertToInteractive(key) {\n",
              "          const element = document.querySelector('#df-16f65cd3-bd7b-4247-af17-779a288c8ca6');\n",
              "          const dataTable =\n",
              "            await google.colab.kernel.invokeFunction('convertToInteractive',\n",
              "                                                     [key], {});\n",
              "          if (!dataTable) return;\n",
              "\n",
              "          const docLinkHtml = 'Like what you see? Visit the ' +\n",
              "            '<a target=\"_blank\" href=https://colab.research.google.com/notebooks/data_table.ipynb>data table notebook</a>'\n",
              "            + ' to learn more about interactive tables.';\n",
              "          element.innerHTML = '';\n",
              "          dataTable['output_type'] = 'display_data';\n",
              "          await google.colab.output.renderOutput(dataTable, element);\n",
              "          const docLink = document.createElement('div');\n",
              "          docLink.innerHTML = docLinkHtml;\n",
              "          element.appendChild(docLink);\n",
              "        }\n",
              "      </script>\n",
              "    </div>\n",
              "  </div>\n",
              "  "
            ]
          },
          "metadata": {},
          "execution_count": 35
        }
      ]
    },
    {
      "cell_type": "code",
      "source": [
        "# Plot the bar chart\n",
        "plt.figure(figsize=(5, 8))\n",
        "plt.barh(top_10_ishit['userId'], top_10_ishit['count'])\n",
        "plt.xlabel('UserId')\n",
        "plt.ylabel('Count')\n",
        "plt.title('isHit =1')\n",
        "plt.xticks(rotation=90)\n",
        "plt.show()"
      ],
      "metadata": {
        "colab": {
          "base_uri": "https://localhost:8080/",
          "height": 730
        },
        "id": "DuohbgUrJWd1",
        "outputId": "e853fabc-409f-4feb-8aa6-925d04dfc324"
      },
      "execution_count": 36,
      "outputs": [
        {
          "output_type": "display_data",
          "data": {
            "text/plain": [
              "<Figure size 500x800 with 1 Axes>"
            ],
            "image/png": "[encoded data removed]"
          },
          "metadata": {}
        }
      ]
    },
    {
      "cell_type": "code",
      "source": [
        "count_end_start= df_level.groupBy('eventType').count().orderBy(col('count').desc()).toPandas()\n"
      ],
      "metadata": {
        "id": "VGMw32y0Jmdw"
      },
      "execution_count": 37,
      "outputs": []
    },
    {
      "cell_type": "code",
      "source": [
        "plt.figure(figsize=(8, 8))\n",
        "plt.pie(count_end_start['count'], labels=count_end_start['eventType'], autopct='%1.1f%%')\n",
        "plt.axis('equal')\n",
        "plt.title('START VS END')\n",
        "plt.show()"
      ],
      "metadata": {
        "colab": {
          "base_uri": "https://localhost:8080/",
          "height": 684
        },
        "id": "yvQqU2nHJqX9",
        "outputId": "9a3fbd48-7aa3-4c0d-a1fd-621089926a06"
      },
      "execution_count": 38,
      "outputs": [
        {
          "output_type": "display_data",
          "data": {
            "text/plain": [
              "<Figure size 800x800 with 1 Axes>"
            ],
            "image/png": "[encoded data removed]"
          },
          "metadata": {}
        }
      ]
    },
    {
      "cell_type": "markdown",
      "source": [
        "note: below code illustrates that they are 109 teams and only 51 teams were able to complete level 7, hence it should be the hardest level"
      ],
      "metadata": {
        "id": "9EdG1TBpKPEA"
      }
    },
    {
      "cell_type": "code",
      "source": [
        "level_end = df_level.filter(col(\"eventType\") == \"end\")"
      ],
      "metadata": {
        "id": "enTfOR2yJyDl"
      },
      "execution_count": 39,
      "outputs": []
    },
    {
      "cell_type": "code",
      "source": [
        "count_teams_ended= level_end.groupBy('teamid').count().orderBy(col('count').desc()).toPandas()\n"
      ],
      "metadata": {
        "id": "wtaC61MmJ1AG"
      },
      "execution_count": 40,
      "outputs": []
    },
    {
      "cell_type": "code",
      "source": [
        "count_levels_end= level_end.groupBy('teamlevel').count().orderBy(col('count').desc()).toPandas()\n"
      ],
      "metadata": {
        "id": "Kv0cfm06J9LU"
      },
      "execution_count": 41,
      "outputs": []
    },
    {
      "cell_type": "code",
      "source": [
        "count_levels_end"
      ],
      "metadata": {
        "colab": {
          "base_uri": "https://localhost:8080/",
          "height": 269
        },
        "id": "tyfUdBPzKACa",
        "outputId": "6ff050af-e429-40fa-c528-285bc2be312e"
      },
      "execution_count": 42,
      "outputs": [
        {
          "output_type": "execute_result",
          "data": {
            "text/plain": [
              "   teamlevel  count\n",
              "0          1    109\n",
              "1          2    107\n",
              "2          3    105\n",
              "3          4     96\n",
              "4          5     85\n",
              "5          6     74\n",
              "6          7     51"
            ],
            "text/html": [
              "\n",
              "  <div id=\"df-3dd057b8-bfe2-435d-8971-2773b61e60ba\">\n",
              "    <div class=\"colab-df-container\">\n",
              "      <div>\n",
              "<style scoped>\n",
              "    .dataframe tbody tr th:only-of-type {\n",
              "        vertical-align: middle;\n",
              "    }\n",
              "\n",
              "    .dataframe tbody tr th {\n",
              "        vertical-align: top;\n",
              "    }\n",
              "\n",
              "    .dataframe thead th {\n",
              "        text-align: right;\n",
              "    }\n",
              "</style>\n",
              "<table border=\"1\" class=\"dataframe\">\n",
              "  <thead>\n",
              "    <tr style=\"text-align: right;\">\n",
              "      <th></th>\n",
              "      <th>teamlevel</th>\n",
              "      <th>count</th>\n",
              "    </tr>\n",
              "  </thead>\n",
              "  <tbody>\n",
              "    <tr>\n",
              "      <th>0</th>\n",
              "      <td>1</td>\n",
              "      <td>109</td>\n",
              "    </tr>\n",
              "    <tr>\n",
              "      <th>1</th>\n",
              "      <td>2</td>\n",
              "      <td>107</td>\n",
              "    </tr>\n",
              "    <tr>\n",
              "      <th>2</th>\n",
              "      <td>3</td>\n",
              "      <td>105</td>\n",
              "    </tr>\n",
              "    <tr>\n",
              "      <th>3</th>\n",
              "      <td>4</td>\n",
              "      <td>96</td>\n",
              "    </tr>\n",
              "    <tr>\n",
              "      <th>4</th>\n",
              "      <td>5</td>\n",
              "      <td>85</td>\n",
              "    </tr>\n",
              "    <tr>\n",
              "      <th>5</th>\n",
              "      <td>6</td>\n",
              "      <td>74</td>\n",
              "    </tr>\n",
              "    <tr>\n",
              "      <th>6</th>\n",
              "      <td>7</td>\n",
              "      <td>51</td>\n",
              "    </tr>\n",
              "  </tbody>\n",
              "</table>\n",
              "</div>\n",
              "      <button class=\"colab-df-convert\" onclick=\"convertToInteractive('df-3dd057b8-bfe2-435d-8971-2773b61e60ba')\"\n",
              "              title=\"Convert this dataframe to an interactive table.\"\n",
              "              style=\"display:none;\">\n",
              "        \n",
              "  <svg xmlns=\"http://www.w3.org/2000/svg\" height=\"24px\"viewBox=\"0 0 24 24\"\n",
              "       width=\"24px\">\n",
              "    <path d=\"M0 0h24v24H0V0z\" fill=\"none\"/>\n",
              "    <path d=\"M18.56 5.44l.94 2.06.94-2.06 2.06-.94-2.06-.94-.94-2.06-.94 2.06-2.06.94zm-11 1L8.5 8.5l.94-2.06 2.06-.94-2.06-.94L8.5 2.5l-.94 2.06-2.06.94zm10 10l.94 2.06.94-2.06 2.06-.94-2.06-.94-.94-2.06-.94 2.06-2.06.94z\"/><path d=\"M17.41 7.96l-1.37-1.37c-.4-.4-.92-.59-1.43-.59-.52 0-1.04.2-1.43.59L10.3 9.45l-7.72 7.72c-.78.78-.78 2.05 0 2.83L4 21.41c.39.39.9.59 1.41.59.51 0 1.02-.2 1.41-.59l7.78-7.78 2.81-2.81c.8-.78.8-2.07 0-2.86zM5.41 20L4 18.59l7.72-7.72 1.47 1.35L5.41 20z\"/>\n",
              "  </svg>\n",
              "      </button>\n",
              "      \n",
              "  <style>\n",
              "    .colab-df-container {\n",
              "      display:flex;\n",
              "      flex-wrap:wrap;\n",
              "      gap: 12px;\n",
              "    }\n",
              "\n",
              "    .colab-df-convert {\n",
              "      background-color: #E8F0FE;\n",
              "      border: none;\n",
              "      border-radius: 50%;\n",
              "      cursor: pointer;\n",
              "      display: none;\n",
              "      fill: #1967D2;\n",
              "      height: 32px;\n",
              "      padding: 0 0 0 0;\n",
              "      width: 32px;\n",
              "    }\n",
              "\n",
              "    .colab-df-convert:hover {\n",
              "      background-color: #E2EBFA;\n",
              "      box-shadow: 0px 1px 2px rgba(60, 64, 67, 0.3), 0px 1px 3px 1px rgba(60, 64, 67, 0.15);\n",
              "      fill: #174EA6;\n",
              "    }\n",
              "\n",
              "    [theme=dark] .colab-df-convert {\n",
              "      background-color: #3B4455;\n",
              "      fill: #D2E3FC;\n",
              "    }\n",
              "\n",
              "    [theme=dark] .colab-df-convert:hover {\n",
              "      background-color: #434B5C;\n",
              "      box-shadow: 0px 1px 3px 1px rgba(0, 0, 0, 0.15);\n",
              "      filter: drop-shadow(0px 1px 2px rgba(0, 0, 0, 0.3));\n",
              "      fill: #FFFFFF;\n",
              "    }\n",
              "  </style>\n",
              "\n",
              "      <script>\n",
              "        const buttonEl =\n",
              "          document.querySelector('#df-3dd057b8-bfe2-435d-8971-2773b61e60ba button.colab-df-convert');\n",
              "        buttonEl.style.display =\n",
              "          google.colab.kernel.accessAllowed ? 'block' : 'none';\n",
              "\n",
              "        async function convertToInteractive(key) {\n",
              "          const element = document.querySelector('#df-3dd057b8-bfe2-435d-8971-2773b61e60ba');\n",
              "          const dataTable =\n",
              "            await google.colab.kernel.invokeFunction('convertToInteractive',\n",
              "                                                     [key], {});\n",
              "          if (!dataTable) return;\n",
              "\n",
              "          const docLinkHtml = 'Like what you see? Visit the ' +\n",
              "            '<a target=\"_blank\" href=https://colab.research.google.com/notebooks/data_table.ipynb>data table notebook</a>'\n",
              "            + ' to learn more about interactive tables.';\n",
              "          element.innerHTML = '';\n",
              "          dataTable['output_type'] = 'display_data';\n",
              "          await google.colab.output.renderOutput(dataTable, element);\n",
              "          const docLink = document.createElement('div');\n",
              "          docLink.innerHTML = docLinkHtml;\n",
              "          element.appendChild(docLink);\n",
              "        }\n",
              "      </script>\n",
              "    </div>\n",
              "  </div>\n",
              "  "
            ]
          },
          "metadata": {},
          "execution_count": 42
        }
      ]
    },
    {
      "cell_type": "code",
      "source": [
        "# Plot the bar chart\n",
        "plt.figure(figsize=(5, 8))\n",
        "plt.barh(count_levels_end['teamlevel'], count_levels_end['count'])\n",
        "plt.xlabel('count')\n",
        "plt.ylabel('levels')\n",
        "plt.title('levels completed')\n",
        "plt.xticks(rotation=90)\n",
        "plt.show()"
      ],
      "metadata": {
        "colab": {
          "base_uri": "https://localhost:8080/",
          "height": 730
        },
        "id": "Y79_s0YCKByY",
        "outputId": "689afda6-3987-4f41-c1d5-dfb2ab2d0f0c"
      },
      "execution_count": 43,
      "outputs": [
        {
          "output_type": "display_data",
          "data": {
            "text/plain": [
              "<Figure size 500x800 with 1 Axes>"
            ],
            "image/png": "[encoded data removed]"
          },
          "metadata": {}
        }
      ]
    },
    {
      "cell_type": "markdown",
      "source": [
        "below we will find the 10 strongest team"
      ],
      "metadata": {
        "id": "OZ0-qrulNl8f"
      }
    },
    {
      "cell_type": "code",
      "source": [
        "from pyspark.sql.functions import desc\n"
      ],
      "metadata": {
        "id": "zXbwj-JlVvWy"
      },
      "execution_count": 45,
      "outputs": []
    },
    {
      "cell_type": "code",
      "source": [
        "sort_column ='strength'\n",
        "soreted_df = df_team.orderBy(desc(sort_column)).toPandas()"
      ],
      "metadata": {
        "id": "FhVvfIU2KJMd"
      },
      "execution_count": 48,
      "outputs": []
    },
    {
      "cell_type": "code",
      "source": [
        "top10_strength= soreted_df.head(10)"
      ],
      "metadata": {
        "id": "YQOsCveZV4sK"
      },
      "execution_count": 49,
      "outputs": []
    },
    {
      "cell_type": "code",
      "source": [
        "# Plot the bar chart\n",
        "plt.figure(figsize=(8, 8))\n",
        "plt.barh(top10_strength['teamId'], top10_strength['strength'])\n",
        "plt.xlabel('STRENGTH')\n",
        "plt.ylabel('TEAM ID')\n",
        "plt.title('TOP 10 TEAM STRENGTH')\n",
        "plt.xticks(rotation=90)\n",
        "plt.show()"
      ],
      "metadata": {
        "colab": {
          "base_uri": "https://localhost:8080/",
          "height": 726
        },
        "id": "RJ-c5w1PWS_n",
        "outputId": "e1024c17-89b4-4859-f275-c02fc9ea563d"
      },
      "execution_count": 53,
      "outputs": [
        {
          "output_type": "display_data",
          "data": {
            "text/plain": [
              "<Figure size 800x800 with 1 Axes>"
            ],
            "image/png": "[encoded data removed]"
          },
          "metadata": {}
        }
      ]
    },
    {
      "cell_type": "markdown",
      "source": [
        "CLASSIFICATION"
      ],
      "metadata": {
        "id": "y_2DKDYfbyHC"
      }
    },
    {
      "cell_type": "markdown",
      "source": [
        "WE ARE GOING TO PREDICT USERS THAT CLICK ON GAMES ADD"
      ],
      "metadata": {
        "id": "X527o9BCaln3"
      }
    },
    {
      "cell_type": "code",
      "source": [
        "#create a new column where all adcategories will be \"1\" if it is a game ad and \"0\" if it is not \n",
        "class_df = df_adclicks.withColumn('gamecat', when(col('adCategory') == 'games', 1).otherwise(0))\n",
        "\n",
        "# Show the new DataFrame\n",
        "class_df.show()\n"
      ],
      "metadata": {
        "colab": {
          "base_uri": "https://localhost:8080/"
        },
        "id": "cmN-S99Favhi",
        "outputId": "c17ac894-e320-47e2-94ec-a254dd2506f9"
      },
      "execution_count": 15,
      "outputs": [
        {
          "output_type": "stream",
          "name": "stdout",
          "text": [
            "+-------------------+----+-------------+------+------+----+-----------+-------+\n",
            "|          timestamp|txId|userSessionId|teamId|userId|adId| adCategory|gamecat|\n",
            "+-------------------+----+-------------+------+------+----+-----------+-------+\n",
            "|2016-05-26 15:13:22|5974|         5809|    27|   611|   2|electronics|      0|\n",
            "|2016-05-26 15:17:24|5976|         5705|    18|  1874|  21|     movies|      0|\n",
            "|2016-05-26 15:22:52|5978|         5791|    53|  2139|  25|  computers|      0|\n",
            "|2016-05-26 15:22:57|5973|         5756|    63|   212|  10|    fashion|      0|\n",
            "|2016-05-26 15:22:58|5980|         5920|     9|  1027|  20|   clothing|      0|\n",
            "|2016-05-26 15:27:19|5977|         5954|    77|   595|   4|      games|      1|\n",
            "|2016-05-26 15:28:51|5981|         5674|    54|   770|   6|     movies|      0|\n",
            "|2016-05-26 15:35:25|5975|         5919|    59|  2133|   3|electronics|      0|\n",
            "|2016-05-26 15:35:37|5979|         5945|    75|   253|   3|electronics|      0|\n",
            "|2016-05-26 15:36:38|5972|         5914|    78|  1821|  12|  computers|      0|\n",
            "|2016-05-26 15:38:42|6000|         5955|    64|  2009|  17|      games|      1|\n",
            "|2016-05-26 15:41:43|6001|         5892|    53|  1538|  21|     movies|      0|\n",
            "|2016-05-26 15:43:10|5999|         5705|    18|  1874|   3|electronics|      0|\n",
            "|2016-05-26 15:48:11|6002|         5702|    20|   355|  29| automotive|      0|\n",
            "|2016-05-26 16:00:42|6003|         5920|     9|  1027|   0|     sports|      0|\n",
            "|2016-05-26 16:01:01|5998|         5892|    53|  1538|  25|  computers|      0|\n",
            "|2016-05-26 16:07:24|6031|         5938|    11|  1155|   2|electronics|      0|\n",
            "|2016-05-26 16:08:08|6037|         5711|    18|   128|  23|    fashion|      0|\n",
            "|2016-05-26 16:08:35|6040|         5945|    75|   253|  11|      games|      1|\n",
            "|2016-05-26 16:17:31|6035|         5886|    64|    68|   2|electronics|      0|\n",
            "+-------------------+----+-------------+------+------+----+-----------+-------+\n",
            "only showing top 20 rows\n",
            "\n"
          ]
        }
      ]
    },
    {
      "cell_type": "code",
      "source": [
        "class_df = class_df.join(df_users, on='userId', how='inner')\n",
        "\n",
        "# Show the resulting DataFrame\n",
        "class_df.show()"
      ],
      "metadata": {
        "colab": {
          "base_uri": "https://localhost:8080/"
        },
        "id": "pFRY8igHb70o",
        "outputId": "c3d0a995-e37b-44ba-bdc9-62ebbc61ad6f"
      },
      "execution_count": 16,
      "outputs": [
        {
          "output_type": "stream",
          "name": "stdout",
          "text": [
            "+------+-------------------+----+-------------+------+----+-----------+-------+-------------------+-----------+----------+----------+-------+\n",
            "|userId|          timestamp|txId|userSessionId|teamId|adId| adCategory|gamecat|          timestamp|       nick|   twitter|       dob|country|\n",
            "+------+-------------------+----+-------------+------+----+-----------+-------+-------------------+-----------+----------+----------+-------+\n",
            "|   611|2016-05-26 15:13:22|5974|         5809|    27|   2|electronics|      0|2013-11-07 10:03:26|  jhCuajXsZ|   @brOYQM|1961-02-01|     NA|\n",
            "|  1874|2016-05-26 15:17:24|5976|         5705|    18|  21|     movies|      0|2016-01-05 22:27:08|     jIwCVU|  @A1shU2G|1975-06-24|     SE|\n",
            "|  2139|2016-05-26 15:22:52|5978|         5791|    53|  25|  computers|      0|2014-08-01 04:40:38|  EP2vwkWWd|  @iXZMohC|1960-04-29|     JP|\n",
            "|   212|2016-05-26 15:22:57|5973|         5756|    63|  10|    fashion|      0|2015-03-21 11:32:17| CotUq3zaL2|  @9tQvp0F|1976-10-27|     TF|\n",
            "|  1027|2016-05-26 15:22:58|5980|         5920|     9|  20|   clothing|      0|2014-01-31 04:55:04|   BtEYpQcB|  @gU6A6AB|1956-07-04|     GD|\n",
            "|   595|2016-05-26 15:27:19|5977|         5954|    77|   4|      games|      1|2012-08-05 02:47:27|3wifTnsR8Pu|    @hRLpt|1996-12-22|     CA|\n",
            "|   770|2016-05-26 15:28:51|5981|         5674|    54|   6|     movies|      0|2016-01-07 20:55:49| beXCJMuyEu|   @94azzW|1960-01-22|     RE|\n",
            "|  2133|2016-05-26 15:35:25|5975|         5919|    59|   3|electronics|      0|2013-10-12 23:07:21|     RI8aGc|@4FyDsTERM|1951-02-20|     KM|\n",
            "|   253|2016-05-26 15:35:37|5979|         5945|    75|   3|electronics|      0|2014-02-20 21:49:46|RdIPvIgfB3E|    @oPJZ3|1995-09-18|     YE|\n",
            "|  1821|2016-05-26 15:36:38|5972|         5914|    78|  12|  computers|      0|2016-01-27 20:17:49|oQI3yjWnRzL| @zv6mUqpE|1972-12-25|     PL|\n",
            "|  2009|2016-05-26 15:38:42|6000|         5955|    64|  17|      games|      1|2015-12-28 10:02:29|  AKi5g5VpE|  @1OOwUUe|1991-03-18|     PL|\n",
            "|  1538|2016-05-26 15:41:43|6001|         5892|    53|  21|     movies|      0|2012-06-28 11:27:09| TJJvAMxuWs|@p6anmujx6|1988-05-24|     PA|\n",
            "|  1874|2016-05-26 15:43:10|5999|         5705|    18|   3|electronics|      0|2016-01-05 22:27:08|     jIwCVU|  @A1shU2G|1975-06-24|     SE|\n",
            "|   355|2016-05-26 15:48:11|6002|         5702|    20|  29| automotive|      0|2015-08-28 11:41:13|FDUUr9L5Xrs|  @AkBKbXd|1958-09-03|     AF|\n",
            "|  1027|2016-05-26 16:00:42|6003|         5920|     9|   0|     sports|      0|2014-01-31 04:55:04|   BtEYpQcB|  @gU6A6AB|1956-07-04|     GD|\n",
            "|  1538|2016-05-26 16:01:01|5998|         5892|    53|  25|  computers|      0|2012-06-28 11:27:09| TJJvAMxuWs|@p6anmujx6|1988-05-24|     PA|\n",
            "|  1155|2016-05-26 16:07:24|6031|         5938|    11|   2|electronics|      0|2013-05-17 06:37:36|  v1HpdjZtQ|@3WvnUknCB|1949-01-06|     GL|\n",
            "|   128|2016-05-26 16:08:08|6037|         5711|    18|  23|    fashion|      0|2012-12-22 12:54:45|9Az098tOZuB|   @R7LX6h|1994-06-05|     EE|\n",
            "|   253|2016-05-26 16:08:35|6040|         5945|    75|  11|      games|      1|2014-02-20 21:49:46|RdIPvIgfB3E|    @oPJZ3|1995-09-18|     YE|\n",
            "|    68|2016-05-26 16:17:31|6035|         5886|    64|   2|electronics|      0|2014-05-21 19:34:51|    uT668Ts|   @cAu9nz|1982-01-12|     MH|\n",
            "+------+-------------------+----+-------------+------+----+-----------+-------+-------------------+-----------+----------+----------+-------+\n",
            "only showing top 20 rows\n",
            "\n"
          ]
        }
      ]
    },
    {
      "cell_type": "code",
      "source": [
        "#change dob to age then add it to the new dataframe as well as country and device columns and \n",
        "#covert dob to age as a new column\n",
        "from pyspark.sql.functions import current_date, datediff, floor\n",
        "# Calculate the age based on the current date\n",
        "class_df = class_df.withColumn('dob', class_df['dob'].cast('date'))\n",
        "class_df = class_df.withColumn('age', floor(datediff(current_date(), class_df['dob']) / 365.25))\n",
        "\n",
        "# Show the updated DataFrame\n",
        "class_df.show()"
      ],
      "metadata": {
        "colab": {
          "base_uri": "https://localhost:8080/"
        },
        "id": "ReY0K6lJhwSc",
        "outputId": "6b478da5-46f3-4248-cde6-264ccf72ca81"
      },
      "execution_count": 17,
      "outputs": [
        {
          "output_type": "stream",
          "name": "stdout",
          "text": [
            "+------+-------------------+----+-------------+------+----+-----------+-------+-------------------+-----------+----------+----------+-------+---+\n",
            "|userId|          timestamp|txId|userSessionId|teamId|adId| adCategory|gamecat|          timestamp|       nick|   twitter|       dob|country|age|\n",
            "+------+-------------------+----+-------------+------+----+-----------+-------+-------------------+-----------+----------+----------+-------+---+\n",
            "|   611|2016-05-26 15:13:22|5974|         5809|    27|   2|electronics|      0|2013-11-07 10:03:26|  jhCuajXsZ|   @brOYQM|1961-02-01|     NA| 62|\n",
            "|  1874|2016-05-26 15:17:24|5976|         5705|    18|  21|     movies|      0|2016-01-05 22:27:08|     jIwCVU|  @A1shU2G|1975-06-24|     SE| 47|\n",
            "|  2139|2016-05-26 15:22:52|5978|         5791|    53|  25|  computers|      0|2014-08-01 04:40:38|  EP2vwkWWd|  @iXZMohC|1960-04-29|     JP| 63|\n",
            "|   212|2016-05-26 15:22:57|5973|         5756|    63|  10|    fashion|      0|2015-03-21 11:32:17| CotUq3zaL2|  @9tQvp0F|1976-10-27|     TF| 46|\n",
            "|  1027|2016-05-26 15:22:58|5980|         5920|     9|  20|   clothing|      0|2014-01-31 04:55:04|   BtEYpQcB|  @gU6A6AB|1956-07-04|     GD| 66|\n",
            "|   595|2016-05-26 15:27:19|5977|         5954|    77|   4|      games|      1|2012-08-05 02:47:27|3wifTnsR8Pu|    @hRLpt|1996-12-22|     CA| 26|\n",
            "|   770|2016-05-26 15:28:51|5981|         5674|    54|   6|     movies|      0|2016-01-07 20:55:49| beXCJMuyEu|   @94azzW|1960-01-22|     RE| 63|\n",
            "|  2133|2016-05-26 15:35:25|5975|         5919|    59|   3|electronics|      0|2013-10-12 23:07:21|     RI8aGc|@4FyDsTERM|1951-02-20|     KM| 72|\n",
            "|   253|2016-05-26 15:35:37|5979|         5945|    75|   3|electronics|      0|2014-02-20 21:49:46|RdIPvIgfB3E|    @oPJZ3|1995-09-18|     YE| 27|\n",
            "|  1821|2016-05-26 15:36:38|5972|         5914|    78|  12|  computers|      0|2016-01-27 20:17:49|oQI3yjWnRzL| @zv6mUqpE|1972-12-25|     PL| 50|\n",
            "|  2009|2016-05-26 15:38:42|6000|         5955|    64|  17|      games|      1|2015-12-28 10:02:29|  AKi5g5VpE|  @1OOwUUe|1991-03-18|     PL| 32|\n",
            "|  1538|2016-05-26 15:41:43|6001|         5892|    53|  21|     movies|      0|2012-06-28 11:27:09| TJJvAMxuWs|@p6anmujx6|1988-05-24|     PA| 34|\n",
            "|  1874|2016-05-26 15:43:10|5999|         5705|    18|   3|electronics|      0|2016-01-05 22:27:08|     jIwCVU|  @A1shU2G|1975-06-24|     SE| 47|\n",
            "|   355|2016-05-26 15:48:11|6002|         5702|    20|  29| automotive|      0|2015-08-28 11:41:13|FDUUr9L5Xrs|  @AkBKbXd|1958-09-03|     AF| 64|\n",
            "|  1027|2016-05-26 16:00:42|6003|         5920|     9|   0|     sports|      0|2014-01-31 04:55:04|   BtEYpQcB|  @gU6A6AB|1956-07-04|     GD| 66|\n",
            "|  1538|2016-05-26 16:01:01|5998|         5892|    53|  25|  computers|      0|2012-06-28 11:27:09| TJJvAMxuWs|@p6anmujx6|1988-05-24|     PA| 34|\n",
            "|  1155|2016-05-26 16:07:24|6031|         5938|    11|   2|electronics|      0|2013-05-17 06:37:36|  v1HpdjZtQ|@3WvnUknCB|1949-01-06|     GL| 74|\n",
            "|   128|2016-05-26 16:08:08|6037|         5711|    18|  23|    fashion|      0|2012-12-22 12:54:45|9Az098tOZuB|   @R7LX6h|1994-06-05|     EE| 28|\n",
            "|   253|2016-05-26 16:08:35|6040|         5945|    75|  11|      games|      1|2014-02-20 21:49:46|RdIPvIgfB3E|    @oPJZ3|1995-09-18|     YE| 27|\n",
            "|    68|2016-05-26 16:17:31|6035|         5886|    64|   2|electronics|      0|2014-05-21 19:34:51|    uT668Ts|   @cAu9nz|1982-01-12|     MH| 41|\n",
            "+------+-------------------+----+-------------+------+----+-----------+-------+-------------------+-----------+----------+----------+-------+---+\n",
            "only showing top 20 rows\n",
            "\n"
          ]
        }
      ]
    },
    {
      "cell_type": "code",
      "source": [
        "#drop twitter,txId, usersessionId, timestamp, nick, dob\n",
        "class_df= class_df.drop('timestamp', 'userSessionId', 'dob', 'txid','nick','twitter')\n",
        "#drop duplicates from userSession\n",
        "class_df.dropDuplicates(['userId']).show()"
      ],
      "metadata": {
        "colab": {
          "base_uri": "https://localhost:8080/"
        },
        "id": "JON0OKBGo5_v",
        "outputId": "0ede1a92-1ac9-4fb1-9052-773f1d98649a"
      },
      "execution_count": 18,
      "outputs": [
        {
          "output_type": "stream",
          "name": "stdout",
          "text": [
            "+------+------+----+-----------+-------+-------+---+\n",
            "|userId|teamId|adId| adCategory|gamecat|country|age|\n",
            "+------+------+----+-----------+-------+-------+---+\n",
            "|     1|    99|  23|    fashion|      0|     KM| 42|\n",
            "|     8|   124|  17|      games|      1|     GQ| 29|\n",
            "|     9|    97|  19|   clothing|      0|     SI| 66|\n",
            "|    10|   131|   3|electronics|      0|     MK| 25|\n",
            "|    12|    66|  29| automotive|      0|     AO| 28|\n",
            "|    13|    78|  14|    fashion|      0|     HR| 75|\n",
            "|    15|    74|   6|     movies|      0|     MM| 40|\n",
            "|    21|     9|   4|      games|      1|     RU| 74|\n",
            "|    26|   173|  10|    fashion|      0|     MM| 38|\n",
            "|    27|    70|  15|     sports|      0|     LK| 71|\n",
            "|    29|    20|  23|    fashion|      0|     AR| 58|\n",
            "|    34|    69|  21|     movies|      0|     CU| 57|\n",
            "|    36|    20|   7|   hardware|      0|     IR| 28|\n",
            "|    38|   118|  14|    fashion|      0|     TW| 34|\n",
            "|    41|   145|  17|      games|      1|     KZ| 43|\n",
            "|    47|   104|  12|  computers|      0|     CV| 51|\n",
            "|    62|    74|  20|   clothing|      0|     PN| 54|\n",
            "|    65|    75|  18|      games|      1|     BY| 27|\n",
            "|    66|   132|  23|    fashion|      0|     SA| 74|\n",
            "|    67|   155|   5|  computers|      0|     YE| 51|\n",
            "+------+------+----+-----------+-------+-------+---+\n",
            "only showing top 20 rows\n",
            "\n"
          ]
        }
      ]
    },
    {
      "cell_type": "code",
      "source": [
        "from pyspark.ml.feature import VectorAssembler, StringIndexer, OneHotEncoder\n",
        "from pyspark.ml.classification import DecisionTreeClassifier\n",
        "\n",
        "\n",
        "# Select the feature columns and target column\n",
        "feature_columns = ['age', 'userId','teamId','adId', 'country']\n",
        "#feature_columns = ['age', 'userId','teamId', 'country']\n",
        "  # Replace with your actual feature column names\n",
        "target_column = 'gamecat'  # Replace with your actual target column name\n",
        "\n",
        "# Create a StringIndexer to convert the categorical column to numerical indices\n",
        "indexer = StringIndexer(inputCol='country', outputCol='country_index')\n",
        "indexed_df = indexer.fit(class_df).transform(class_df)\n",
        "\n",
        "# Create a OneHotEncoder to encode the categorical indices\n",
        "encoder = OneHotEncoder(inputCols=['country_index'], outputCols=['country_encoded'])\n",
        "encoded_df = encoder.fit(indexed_df).transform(indexed_df)\n",
        "\n",
        "# Create a vector assembler to combine the feature columns into a single vector column\n",
        "assembler = VectorAssembler(inputCols=['age', 'userId','teamId','adId', 'country_encoded'], outputCol='features')\n",
        "assembled_df = assembler.transform(encoded_df)\n",
        "\n",
        "# Split the data into training and testing sets\n",
        "train_data, test_data = assembled_df.randomSplit([0.8, 0.2])  # Adjust the split ratio as needed\n",
        "\n",
        "# Create the decision tree model\n",
        "dt_model = DecisionTreeClassifier(featuresCol='features', labelCol=target_column)\n",
        "\n",
        "# Train the decision tree model\n",
        "dt_model = dt_model.fit(train_data)\n",
        "\n",
        "# Make predictions on the test data\n",
        "predictions = dt_model.transform(test_data)\n",
        "\n",
        "# Show the predicted values\n",
        "predictions.select('features', target_column, 'prediction').show(10)\n"
      ],
      "metadata": {
        "colab": {
          "base_uri": "https://localhost:8080/"
        },
        "id": "ergQy5mmMvld",
        "outputId": "50a67d91-173f-4bb8-d088-37011d5eb5e0"
      },
      "execution_count": 21,
      "outputs": [
        {
          "output_type": "stream",
          "name": "stdout",
          "text": [
            "+--------------------+-------+----------+\n",
            "|            features|gamecat|prediction|\n",
            "+--------------------+-------+----------+\n",
            "|(229,[0,1,2,3,16]...|      0|       0.0|\n",
            "|(229,[0,1,2,3,16]...|      0|       0.0|\n",
            "|(229,[0,1,2,3,16]...|      0|       0.0|\n",
            "|(229,[0,1,2,3,16]...|      0|       0.0|\n",
            "|(229,[0,1,2,3,16]...|      0|       0.0|\n",
            "|(229,[0,1,2,3,16]...|      0|       0.0|\n",
            "|(229,[0,1,2,3,16]...|      0|       0.0|\n",
            "|(229,[0,1,2,3,16]...|      0|       0.0|\n",
            "|(229,[0,1,2,3,16]...|      1|       0.0|\n",
            "|(229,[0,1,2,3,16]...|      0|       0.0|\n",
            "+--------------------+-------+----------+\n",
            "only showing top 10 rows\n",
            "\n"
          ]
        }
      ]
    },
    {
      "cell_type": "code",
      "source": [
        "# Create a confusion matrix\n",
        "predictions.groupBy('gamecat', 'prediction').count().show()\n",
        "\n",
        "# Calculate the elements of the confusion matrix\n",
        "TN = predictions.filter('prediction = 0 AND gamecat = prediction').count()\n",
        "TP = predictions.filter('prediction = 1 AND gamecat = prediction').count()\n",
        "FN = predictions.filter('prediction = 0 AND gamecat = 1').count()\n",
        "FP = predictions.filter('prediction = 1 AND gamecat = 0').count()\n",
        "\n",
        "# Accuracy measures the proportion of correct predictions\n",
        "accuracy = (TN + TP) / (TN + TP + FN + FP)\n",
        "print(accuracy)"
      ],
      "metadata": {
        "colab": {
          "base_uri": "https://localhost:8080/"
        },
        "id": "TMCNnrBIPW4L",
        "outputId": "4f2f6b8c-c937-4e13-d77c-74bd59d2fda6"
      },
      "execution_count": 22,
      "outputs": [
        {
          "output_type": "stream",
          "name": "stdout",
          "text": [
            "+-------+----------+-----+\n",
            "|gamecat|prediction|count|\n",
            "+-------+----------+-----+\n",
            "|      1|       0.0|  317|\n",
            "|      0|       0.0| 2794|\n",
            "|      1|       1.0|  183|\n",
            "+-------+----------+-----+\n",
            "\n",
            "0.9037644201578627\n"
          ]
        }
      ]
    },
    {
      "cell_type": "code",
      "source": [
        "from pyspark.sql.functions import col\n",
        "\n",
        "# Assuming you have a DataFrame called 'predictions' with 'prediction' and 'label' columns\n",
        "\n",
        "# Compute the confusion matrix\n",
        "confusion_matrix = predictions.groupBy('gamecat', 'prediction').count().orderBy('gamecat', 'prediction')\n",
        "\n",
        "# Pivot the confusion matrix for better readability\n",
        "confusion_matrix_pivot = confusion_matrix.groupBy('gamecat').pivot('prediction').sum('count').na.fill(0)\n",
        "\n",
        "# Display the confusion matrix\n",
        "print(\"Confusion Matrix:\")\n",
        "confusion_matrix_pivot.show()\n",
        "\n"
      ],
      "metadata": {
        "colab": {
          "base_uri": "https://localhost:8080/"
        },
        "id": "i0sRUi9GQVYB",
        "outputId": "233f234f-31fd-4bfd-94c3-4aae94fa2c65"
      },
      "execution_count": 23,
      "outputs": [
        {
          "output_type": "stream",
          "name": "stdout",
          "text": [
            "Confusion Matrix:\n",
            "+-------+----+---+\n",
            "|gamecat| 0.0|1.0|\n",
            "+-------+----+---+\n",
            "|      1| 317|183|\n",
            "|      0|2794|  0|\n",
            "+-------+----+---+\n",
            "\n"
          ]
        }
      ]
    },
    {
      "cell_type": "markdown",
      "source": [
        "CLUSTERING"
      ],
      "metadata": {
        "id": "OrSesePNb04-"
      }
    },
    {
      "cell_type": "code",
      "source": [
        "from pyspark.ml.feature import VectorAssembler, StringIndexer\n",
        "from pyspark.ml.clustering import KMeans\n",
        "\n",
        "# Assuming you have a DataFrame called 'data' with feature columns including 'country'\n",
        "\n",
        "# Select the feature columns\n",
        "feature_columns_clustering = ['teamId', 'age', 'country','userId', 'adId']  # Replace with your actual feature column names\n",
        "prediction_column = 'gamecat'\n",
        "\n",
        "# Create a StringIndexer to convert the categorical column to numerical indices\n",
        "indexer_clustering = StringIndexer(inputCol='country', outputCol='country_index')\n",
        "indexed_data_clustering = indexer_clustering.fit(class_df).transform(class_df)\n",
        "\n",
        "# Create a OneHotEncoder to encode the categorical indices\n",
        "encoder_clustering = OneHotEncoder(inputCols=['country_index'], outputCols=['country_encoded'])\n",
        "encoded_clustering = encoder_clustering.fit(indexed_data_clustering).transform(indexed_data_clustering)\n",
        "\n",
        "# Create a vector assembler to combine the feature columns into a single vector column\n",
        "assembler_clustering = VectorAssembler(inputCols=['age', 'userId','teamId','adId', 'country_encoded'], outputCol='features')\n",
        "assembled_data_clustering = assembler_clustering.transform(encoded_clustering)\n",
        "\n",
        "\n",
        "\n",
        "# Train the K-means model\n",
        "k = 3  # Number of clusters\n",
        "kmeans = KMeans(featuresCol='features', predictionCol='clusters', k=k, seed=11)\n",
        "model = kmeans.fit(assembled_data_clustering)\n",
        "\n",
        "# Make predictions on the data\n",
        "predictions_clustering = model.transform(assembled_data_clustering)\n",
        "\n",
        "from pyspark.ml.evaluation import ClusteringEvaluator\n",
        "evaluator = ClusteringEvaluator(featuresCol='features', predictionCol='clusters', metricName='silhouette')\n",
        "silhouette_score = evaluator.evaluate(predictions_clustering)\n",
        "\n",
        "print(\"Silhouette Score: \", silhouette_score)\n",
        "\n",
        "# Show the predicted cluster for each data point\n",
        "predictions_clustering.select('features', 'clusters').show()\n"
      ],
      "metadata": {
        "colab": {
          "base_uri": "https://localhost:8080/"
        },
        "id": "YPewbv6GbePr",
        "outputId": "8db77248-5026-480c-9ab2-b927521c52ea"
      },
      "execution_count": 24,
      "outputs": [
        {
          "output_type": "stream",
          "name": "stdout",
          "text": [
            "Silhouette Score:  0.7532475572081742\n",
            "+--------------------+--------+\n",
            "|            features|clusters|\n",
            "+--------------------+--------+\n",
            "|(229,[0,1,2,3,88]...|       2|\n",
            "|(229,[0,1,2,3,157...|       0|\n",
            "|(229,[0,1,2,3,55]...|       0|\n",
            "|(229,[0,1,2,3,140...|       2|\n",
            "|(229,[0,1,2,3,12]...|       1|\n",
            "|(229,[0,1,2,3,59]...|       2|\n",
            "|(229,[0,1,2,3,99]...|       1|\n",
            "|(229,[0,1,2,3,16]...|       0|\n",
            "|(229,[0,1,2,3,28]...|       2|\n",
            "|(229,[0,1,2,3,10]...|       0|\n",
            "|(229,[0,1,2,3,10]...|       0|\n",
            "|(229,[0,1,2,3,4],...|       1|\n",
            "|(229,[0,1,2,3,157...|       0|\n",
            "|(229,[0,1,2,3,9],...|       2|\n",
            "|(229,[0,1,2,12],[...|       1|\n",
            "|(229,[0,1,2,3,4],...|       1|\n",
            "|(229,[0,1,2,3,23]...|       1|\n",
            "|(229,[0,1,2,3,223...|       2|\n",
            "|(229,[0,1,2,3,28]...|       2|\n",
            "|(229,[0,1,2,3,178...|       2|\n",
            "+--------------------+--------+\n",
            "only showing top 20 rows\n",
            "\n"
          ]
        }
      ]
    },
    {
      "cell_type": "markdown",
      "source": [
        "GRAPH ANALYSIS"
      ],
      "metadata": {
        "id": "QXOta4PEb36R"
      }
    }
  ]
}